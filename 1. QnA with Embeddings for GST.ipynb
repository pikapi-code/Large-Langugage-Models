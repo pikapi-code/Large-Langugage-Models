{
 "cells": [
  {
   "cell_type": "code",
   "execution_count": 6,
   "metadata": {
    "colab": {
     "base_uri": "https://localhost:8080/"
    },
    "id": "aAlayeCUnNVV",
    "outputId": "1284865d-70f1-4d6a-8cc3-1602bf514a2a"
   },
   "outputs": [
    {
     "name": "stdout",
     "output_type": "stream",
     "text": [
      "Requirement already satisfied: langchain in h:\\projects\\large langugage models\\llm\\lib\\site-packages (0.0.188)\n",
      "Requirement already satisfied: openai in h:\\projects\\large langugage models\\llm\\lib\\site-packages (0.27.7)\n",
      "Requirement already satisfied: unstructured in h:\\projects\\large langugage models\\llm\\lib\\site-packages (0.7.2)\n",
      "Requirement already satisfied: pdf2image in h:\\projects\\large langugage models\\llm\\lib\\site-packages (1.16.3)\n",
      "Requirement already satisfied: pinecone-client in h:\\projects\\large langugage models\\llm\\lib\\site-packages (2.2.1)\n",
      "Requirement already satisfied: tiktoken in h:\\projects\\large langugage models\\llm\\lib\\site-packages (0.4.0)\n",
      "Requirement already satisfied: python-dotenv in h:\\projects\\large langugage models\\llm\\lib\\site-packages (1.0.0)\n",
      "Requirement already satisfied: SQLAlchemy<3,>=1.4 in h:\\projects\\large langugage models\\llm\\lib\\site-packages (from langchain) (2.0.15)\n",
      "Requirement already satisfied: requests<3,>=2 in h:\\projects\\large langugage models\\llm\\lib\\site-packages (from langchain) (2.31.0)\n",
      "Requirement already satisfied: openapi-schema-pydantic<2.0,>=1.2 in h:\\projects\\large langugage models\\llm\\lib\\site-packages (from langchain) (1.2.4)\n",
      "Requirement already satisfied: PyYAML>=5.4.1 in h:\\projects\\large langugage models\\llm\\lib\\site-packages (from langchain) (6.0)\n",
      "Requirement already satisfied: pydantic<2,>=1 in h:\\projects\\large langugage models\\llm\\lib\\site-packages (from langchain) (1.10.8)\n",
      "Requirement already satisfied: numexpr<3.0.0,>=2.8.4 in h:\\projects\\large langugage models\\llm\\lib\\site-packages (from langchain) (2.8.4)\n",
      "Requirement already satisfied: aiohttp<4.0.0,>=3.8.3 in h:\\projects\\large langugage models\\llm\\lib\\site-packages (from langchain) (3.8.4)\n",
      "Requirement already satisfied: tenacity<9.0.0,>=8.1.0 in h:\\projects\\large langugage models\\llm\\lib\\site-packages (from langchain) (8.2.2)\n",
      "Requirement already satisfied: dataclasses-json<0.6.0,>=0.5.7 in h:\\projects\\large langugage models\\llm\\lib\\site-packages (from langchain) (0.5.7)\n",
      "Requirement already satisfied: numpy<2,>=1 in h:\\projects\\large langugage models\\llm\\lib\\site-packages (from langchain) (1.23.5)\n",
      "Requirement already satisfied: async-timeout<5.0.0,>=4.0.0 in h:\\projects\\large langugage models\\llm\\lib\\site-packages (from langchain) (4.0.2)\n",
      "Requirement already satisfied: tqdm in h:\\projects\\large langugage models\\llm\\lib\\site-packages (from openai) (4.65.0)\n",
      "Requirement already satisfied: pandas in h:\\projects\\large langugage models\\llm\\lib\\site-packages (from unstructured) (1.5.3)\n",
      "Requirement already satisfied: python-magic in h:\\projects\\large langugage models\\llm\\lib\\site-packages (from unstructured) (0.4.27)\n",
      "Requirement already satisfied: nltk in h:\\projects\\large langugage models\\llm\\lib\\site-packages (from unstructured) (3.8.1)\n",
      "Requirement already satisfied: markdown in h:\\projects\\large langugage models\\llm\\lib\\site-packages (from unstructured) (3.4.3)\n",
      "Requirement already satisfied: chardet in h:\\projects\\large langugage models\\llm\\lib\\site-packages (from unstructured) (5.1.0)\n",
      "Requirement already satisfied: argilla in h:\\projects\\large langugage models\\llm\\lib\\site-packages (from unstructured) (1.8.0)\n",
      "Requirement already satisfied: openpyxl in h:\\projects\\large langugage models\\llm\\lib\\site-packages (from unstructured) (3.1.2)\n",
      "Requirement already satisfied: python-docx in h:\\projects\\large langugage models\\llm\\lib\\site-packages (from unstructured) (0.8.11)\n",
      "Requirement already satisfied: pypandoc in h:\\projects\\large langugage models\\llm\\lib\\site-packages (from unstructured) (1.11)\n",
      "Requirement already satisfied: xlrd in h:\\projects\\large langugage models\\llm\\lib\\site-packages (from unstructured) (2.0.1)\n",
      "Requirement already satisfied: python-pptx in h:\\projects\\large langugage models\\llm\\lib\\site-packages (from unstructured) (0.6.21)\n",
      "Requirement already satisfied: msg-parser in h:\\projects\\large langugage models\\llm\\lib\\site-packages (from unstructured) (1.2.0)\n",
      "Requirement already satisfied: pillow in h:\\projects\\large langugage models\\llm\\lib\\site-packages (from unstructured) (9.5.0)\n",
      "Requirement already satisfied: tabulate in h:\\projects\\large langugage models\\llm\\lib\\site-packages (from unstructured) (0.9.0)\n",
      "Requirement already satisfied: lxml in h:\\projects\\large langugage models\\llm\\lib\\site-packages (from unstructured) (4.9.2)\n",
      "Requirement already satisfied: pdfminer.six in h:\\projects\\large langugage models\\llm\\lib\\site-packages (from unstructured) (20221105)\n",
      "Requirement already satisfied: urllib3>=1.21.1 in h:\\projects\\large langugage models\\llm\\lib\\site-packages (from pinecone-client) (1.26.16)\n",
      "Requirement already satisfied: dnspython>=2.0.0 in h:\\projects\\large langugage models\\llm\\lib\\site-packages (from pinecone-client) (2.3.0)\n",
      "Requirement already satisfied: typing-extensions>=3.7.4 in h:\\projects\\large langugage models\\llm\\lib\\site-packages (from pinecone-client) (4.5.0)\n",
      "Requirement already satisfied: python-dateutil>=2.5.3 in h:\\projects\\large langugage models\\llm\\lib\\site-packages (from pinecone-client) (2.8.2)\n",
      "Requirement already satisfied: loguru>=0.5.0 in h:\\projects\\large langugage models\\llm\\lib\\site-packages (from pinecone-client) (0.7.0)\n",
      "Requirement already satisfied: regex>=2022.1.18 in h:\\projects\\large langugage models\\llm\\lib\\site-packages (from tiktoken) (2023.5.5)\n",
      "Requirement already satisfied: frozenlist>=1.1.1 in h:\\projects\\large langugage models\\llm\\lib\\site-packages (from aiohttp<4.0.0,>=3.8.3->langchain) (1.3.3)\n",
      "Requirement already satisfied: charset-normalizer<4.0,>=2.0 in h:\\projects\\large langugage models\\llm\\lib\\site-packages (from aiohttp<4.0.0,>=3.8.3->langchain) (3.1.0)\n",
      "Requirement already satisfied: aiosignal>=1.1.2 in h:\\projects\\large langugage models\\llm\\lib\\site-packages (from aiohttp<4.0.0,>=3.8.3->langchain) (1.3.1)\n",
      "Requirement already satisfied: yarl<2.0,>=1.0 in h:\\projects\\large langugage models\\llm\\lib\\site-packages (from aiohttp<4.0.0,>=3.8.3->langchain) (1.9.2)\n",
      "Requirement already satisfied: attrs>=17.3.0 in h:\\projects\\large langugage models\\llm\\lib\\site-packages (from aiohttp<4.0.0,>=3.8.3->langchain) (23.1.0)\n",
      "Requirement already satisfied: multidict<7.0,>=4.5 in h:\\projects\\large langugage models\\llm\\lib\\site-packages (from aiohttp<4.0.0,>=3.8.3->langchain) (6.0.4)\n",
      "Requirement already satisfied: marshmallow<4.0.0,>=3.3.0 in h:\\projects\\large langugage models\\llm\\lib\\site-packages (from dataclasses-json<0.6.0,>=0.5.7->langchain) (3.19.0)\n",
      "Requirement already satisfied: marshmallow-enum<2.0.0,>=1.5.1 in h:\\projects\\large langugage models\\llm\\lib\\site-packages (from dataclasses-json<0.6.0,>=0.5.7->langchain) (1.5.1)\n",
      "Requirement already satisfied: typing-inspect>=0.4.0 in h:\\projects\\large langugage models\\llm\\lib\\site-packages (from dataclasses-json<0.6.0,>=0.5.7->langchain) (0.8.0)\n",
      "Requirement already satisfied: colorama>=0.3.4 in h:\\projects\\large langugage models\\llm\\lib\\site-packages (from loguru>=0.5.0->pinecone-client) (0.4.6)\n",
      "Requirement already satisfied: win32-setctime>=1.0.0 in h:\\projects\\large langugage models\\llm\\lib\\site-packages (from loguru>=0.5.0->pinecone-client) (1.1.0)\n",
      "Requirement already satisfied: six>=1.5 in h:\\projects\\large langugage models\\llm\\lib\\site-packages (from python-dateutil>=2.5.3->pinecone-client) (1.16.0)\n",
      "Requirement already satisfied: idna<4,>=2.5 in h:\\projects\\large langugage models\\llm\\lib\\site-packages (from requests<3,>=2->langchain) (3.4)\n",
      "Requirement already satisfied: certifi>=2017.4.17 in h:\\projects\\large langugage models\\llm\\lib\\site-packages (from requests<3,>=2->langchain) (2023.5.7)\n",
      "Requirement already satisfied: greenlet!=0.4.17 in h:\\projects\\large langugage models\\llm\\lib\\site-packages (from SQLAlchemy<3,>=1.4->langchain) (2.0.2)\n",
      "Requirement already satisfied: backoff in h:\\projects\\large langugage models\\llm\\lib\\site-packages (from argilla->unstructured) (2.2.1)\n",
      "Requirement already satisfied: deprecated~=1.2.0 in h:\\projects\\large langugage models\\llm\\lib\\site-packages (from argilla->unstructured) (1.2.14)\n",
      "Requirement already satisfied: monotonic in h:\\projects\\large langugage models\\llm\\lib\\site-packages (from argilla->unstructured) (1.6)\n",
      "Requirement already satisfied: packaging>=20.0 in h:\\projects\\large langugage models\\llm\\lib\\site-packages (from argilla->unstructured) (23.1)\n",
      "Requirement already satisfied: httpx<0.24,>=0.15 in h:\\projects\\large langugage models\\llm\\lib\\site-packages (from argilla->unstructured) (0.23.3)\n",
      "Requirement already satisfied: rich<=13.0.1 in h:\\projects\\large langugage models\\llm\\lib\\site-packages (from argilla->unstructured) (13.0.1)\n",
      "Requirement already satisfied: typer<1.0.0,>=0.6.0 in h:\\projects\\large langugage models\\llm\\lib\\site-packages (from argilla->unstructured) (0.9.0)\n",
      "Requirement already satisfied: wrapt<1.15,>=1.13 in h:\\projects\\large langugage models\\llm\\lib\\site-packages (from argilla->unstructured) (1.14.1)\n",
      "Requirement already satisfied: pytz>=2020.1 in h:\\projects\\large langugage models\\llm\\lib\\site-packages (from pandas->unstructured) (2023.3)\n",
      "Requirement already satisfied: olefile>=0.46 in h:\\projects\\large langugage models\\llm\\lib\\site-packages (from msg-parser->unstructured) (0.46)\n",
      "Requirement already satisfied: click in h:\\projects\\large langugage models\\llm\\lib\\site-packages (from nltk->unstructured) (8.1.3)\n",
      "Requirement already satisfied: joblib in h:\\projects\\large langugage models\\llm\\lib\\site-packages (from nltk->unstructured) (1.2.0)\n",
      "Requirement already satisfied: et-xmlfile in h:\\projects\\large langugage models\\llm\\lib\\site-packages (from openpyxl->unstructured) (1.1.0)\n",
      "Requirement already satisfied: cryptography>=36.0.0 in h:\\projects\\large langugage models\\llm\\lib\\site-packages (from pdfminer.six->unstructured) (41.0.1)\n",
      "Requirement already satisfied: XlsxWriter>=0.5.7 in h:\\projects\\large langugage models\\llm\\lib\\site-packages (from python-pptx->unstructured) (3.1.2)\n",
      "Requirement already satisfied: cffi>=1.12 in h:\\projects\\large langugage models\\llm\\lib\\site-packages (from cryptography>=36.0.0->pdfminer.six->unstructured) (1.15.1)\n",
      "Requirement already satisfied: rfc3986[idna2008]<2,>=1.3 in h:\\projects\\large langugage models\\llm\\lib\\site-packages (from httpx<0.24,>=0.15->argilla->unstructured) (1.5.0)\n",
      "Requirement already satisfied: sniffio in h:\\projects\\large langugage models\\llm\\lib\\site-packages (from httpx<0.24,>=0.15->argilla->unstructured) (1.3.0)\n",
      "Requirement already satisfied: httpcore<0.17.0,>=0.15.0 in h:\\projects\\large langugage models\\llm\\lib\\site-packages (from httpx<0.24,>=0.15->argilla->unstructured) (0.16.3)\n",
      "Requirement already satisfied: pygments<3.0.0,>=2.6.0 in h:\\projects\\large langugage models\\llm\\lib\\site-packages (from rich<=13.0.1->argilla->unstructured) (2.15.1)\n",
      "Requirement already satisfied: commonmark<0.10.0,>=0.9.0 in h:\\projects\\large langugage models\\llm\\lib\\site-packages (from rich<=13.0.1->argilla->unstructured) (0.9.1)\n",
      "Requirement already satisfied: mypy-extensions>=0.3.0 in h:\\projects\\large langugage models\\llm\\lib\\site-packages (from typing-inspect>=0.4.0->dataclasses-json<0.6.0,>=0.5.7->langchain) (1.0.0)\n",
      "Requirement already satisfied: pycparser in h:\\projects\\large langugage models\\llm\\lib\\site-packages (from cffi>=1.12->cryptography>=36.0.0->pdfminer.six->unstructured) (2.21)\n",
      "Requirement already satisfied: h11<0.15,>=0.13 in h:\\projects\\large langugage models\\llm\\lib\\site-packages (from httpcore<0.17.0,>=0.15.0->httpx<0.24,>=0.15->argilla->unstructured) (0.14.0)\n",
      "Requirement already satisfied: anyio<5.0,>=3.0 in h:\\projects\\large langugage models\\llm\\lib\\site-packages (from httpcore<0.17.0,>=0.15.0->httpx<0.24,>=0.15->argilla->unstructured) (3.7.0)\n",
      "Requirement already satisfied: exceptiongroup in h:\\projects\\large langugage models\\llm\\lib\\site-packages (from anyio<5.0,>=3.0->httpcore<0.17.0,>=0.15.0->httpx<0.24,>=0.15->argilla->unstructured) (1.1.1)\n"
     ]
    },
    {
     "name": "stderr",
     "output_type": "stream",
     "text": [
      "\n",
      "[notice] A new release of pip is available: 23.0.1 -> 23.1.2\n",
      "[notice] To update, run: python.exe -m pip install --upgrade pip\n"
     ]
    }
   ],
   "source": [
    "!pip install langchain openai unstructured pdf2image pinecone-client tiktoken python-dotenv"
   ]
  },
  {
   "attachments": {},
   "cell_type": "markdown",
   "metadata": {
    "id": "0fNaWDxKzTpj"
   },
   "source": [
    "### Problem Statement\n",
    "\n",
    "To create embedding of custom data and store these embeddings in a vector store."
   ]
  },
  {
   "attachments": {},
   "cell_type": "markdown",
   "metadata": {
    "id": "l_P1F7Nx0OJP"
   },
   "source": [
    "### Solution Approach\n",
    "To solve this we will be using the following:\n",
    "- **Langchain** to load, split and create vector embeddings from our data.\n",
    "- **Pinecone** to store the vector embeddings on a cloud based vector database."
   ]
  },
  {
   "cell_type": "code",
   "execution_count": 7,
   "metadata": {
    "id": "3Tg3uN6-n4es"
   },
   "outputs": [],
   "source": [
    "from langchain.document_loaders import UnstructuredPDFLoader, OnlinePDFLoader, PyPDFLoader, DirectoryLoader, TextLoader\n",
    "from langchain.text_splitter import CharacterTextSplitter\n",
    "from langchain.callbacks import get_openai_callback\n",
    "from dotenv import load_dotenv\n",
    "\n",
    "import os"
   ]
  },
  {
   "cell_type": "code",
   "execution_count": 8,
   "metadata": {
    "id": "UMFIVyBGi8IO"
   },
   "outputs": [],
   "source": [
    "OPENAI_API_KEY = str(os.getenv('OPENAI_API_KEY'))\n",
    "PINECONE_API_KEY = str(os.getenv('PINECONE_API_KEY'))\n",
    "PINECONE_API_ENV = str(os.getenv('PINECONE_API_ENV'))"
   ]
  },
  {
   "attachments": {},
   "cell_type": "markdown",
   "metadata": {
    "id": "-xDw98cW48d8"
   },
   "source": [
    "### Add your data"
   ]
  },
  {
   "cell_type": "code",
   "execution_count": 7,
   "metadata": {
    "id": "TyXSarmxoU3f"
   },
   "outputs": [],
   "source": [
    "loader = DirectoryLoader(\"data/\", glob=\"**/*.pdf\")"
   ]
  },
  {
   "cell_type": "code",
   "execution_count": 8,
   "metadata": {
    "id": "ihxrOR7zolxJ"
   },
   "outputs": [],
   "source": [
    "documents = loader.load()"
   ]
  },
  {
   "cell_type": "code",
   "execution_count": 9,
   "metadata": {
    "colab": {
     "base_uri": "https://localhost:8080/"
    },
    "id": "ttT8ZIq-u8-r",
    "outputId": "283b73fc-f9af-4fb0-a7a0-99938cbe5c2b"
   },
   "outputs": [
    {
     "name": "stdout",
     "output_type": "stream",
     "text": [
      "1\n"
     ]
    }
   ],
   "source": [
    "print(len(documents))"
   ]
  },
  {
   "cell_type": "code",
   "execution_count": 10,
   "metadata": {
    "id": "2EkMaG0no6Cp"
   },
   "outputs": [],
   "source": [
    "# Chunk your data up into smaller documents\n",
    "\n",
    "text_splitter = CharacterTextSplitter(chunk_size=2500, chunk_overlap=0)\n",
    "texts = text_splitter.split_documents(documents)"
   ]
  },
  {
   "cell_type": "code",
   "execution_count": 11,
   "metadata": {
    "colab": {
     "base_uri": "https://localhost:8080/"
    },
    "id": "TSxHga11vlcG",
    "outputId": "ff820142-27b9-45ba-a7ba-2886c34ebe5c"
   },
   "outputs": [
    {
     "name": "stdout",
     "output_type": "stream",
     "text": [
      "Now you have 126 documents\n"
     ]
    }
   ],
   "source": [
    "print(f'Now you have {len(texts)} documents')"
   ]
  },
  {
   "cell_type": "code",
   "execution_count": 12,
   "metadata": {
    "colab": {
     "base_uri": "https://localhost:8080/"
    },
    "id": "GPDUc3s9v1ee",
    "outputId": "ce352591-19ca-46d2-a8bd-38c6f5d1301e"
   },
   "outputs": [
    {
     "data": {
      "text/plain": [
       "Document(page_content='This FAQ on GST compiled by NACEN and vetted by the Source Trainers is based on the CGST/SGST/UTGST/IGST Act(s). This FAQ is for training and academic purposes only. The information in this booklet is intended only to provide a general overview and is not intended to be treated as legal ad vice or opinion. For greater details, you are respective refer CGST/SGST/UTGST/IGST Acts. The FAQs refer to CGST and SGST Acts as CGST/SGST as CGST Act and SGST Act are identical in most of the provisions. CGST Act has been in the Parliament. The SGST Acts will be passed by respective state legislatures. A few provisions may be specific to state and may not be in CGST Act.\\n\\nintroduced\\n\\nrequested\\n\\nthe\\n\\nto\\n\\nto\\n\\n1. Overview of Goods and Services Tax (GST)\\n\\nQ 1. What is Goods and Services Tax\\n\\n(GST)?\\n\\nAns. It is a destination based tax on consumption of goods and services. It is proposed to be levied at all stages right from manufacture up to final consumption with credit of taxes paid at previous stages available as setoff. In a nutshell, only value addition will be taxed and burden of tax is to be borne by the final consumer.\\n\\nQ 2. What exactly is the concept of destination based\\n\\ntax on consumption?\\n\\nAns. The tax would accrue to the taxing authority which has jurisdiction over the place of consumption which is also termed as place of supply.\\n\\nQ 3. Which of the existing taxes are proposed to be\\n\\nsubsumed under GST?\\n\\nAns. The GST would replace the following taxes:\\n\\n(i) taxes currently levied and collected by the Centre:\\n\\na. Central Excise duty\\n\\nb. Duties of Excise Preparations)\\n\\n(Medicinal and Toilet\\n\\nc. Additional Duties of Excise (Goods of Special\\n\\nImportance)\\n\\nd. Additional Duties of Excise (Textiles and Textile\\n\\nProducts)\\n\\ne. Additional Duties of Customs (commonly known as CVD)\\n\\nf.\\n\\nSpecial Additional Duty of Customs (SAD)\\n\\ng. Service Tax\\n\\nh. Central Surcharges and Cesses so far as they\\n\\nrelate to supply of goods and services\\n\\n(ii) State taxes that would be subsumed under the GST\\n\\nare:\\n\\na. State VAT\\n\\nb. Central Sales Tax\\n\\nc. Luxury Tax\\n\\nd. Entry Tax (all forms)\\n\\ne. Entertainment and Amusement Tax (except when\\n\\nlevied by the local bodies)\\n\\nf. Taxes on advertisements\\n\\ng. Purchase Tax\\n\\nh. Taxes on lotteries, betting and gambling\\n\\ni.\\n\\nState Surcharges and Cesses so far as they relate to supply of goods and services', metadata={'source': 'data\\\\new-faq-on-gst-second-edition.pdf'})"
      ]
     },
     "execution_count": 12,
     "metadata": {},
     "output_type": "execute_result"
    }
   ],
   "source": [
    "texts[2]"
   ]
  },
  {
   "attachments": {},
   "cell_type": "markdown",
   "metadata": {
    "id": "x04evMB_xfE0"
   },
   "source": [
    "### Create embeddings of your documents to get ready for semantic search"
   ]
  },
  {
   "cell_type": "code",
   "execution_count": 13,
   "metadata": {
    "id": "5S8zIXesxl_9"
   },
   "outputs": [
    {
     "name": "stderr",
     "output_type": "stream",
     "text": [
      "H:\\Projects\\Large Langugage Models\\llm\\lib\\site-packages\\pinecone\\index.py:4: TqdmExperimentalWarning: Using `tqdm.autonotebook.tqdm` in notebook mode. Use `tqdm.tqdm` instead to force console mode (e.g. in jupyter console)\n",
      "  from tqdm.autonotebook import tqdm\n"
     ]
    }
   ],
   "source": [
    "from langchain.embeddings import OpenAIEmbeddings\n",
    "from langchain.vectorstores import Pinecone, Chroma\n",
    "\n",
    "import pinecone"
   ]
  },
  {
   "cell_type": "code",
   "execution_count": 16,
   "metadata": {
    "id": "BluLs-arxxdl"
   },
   "outputs": [
    {
     "name": "stdout",
     "output_type": "stream",
     "text": [
      "Tokens Used: 0\n",
      "\tPrompt Tokens: 0\n",
      "\tCompletion Tokens: 0\n",
      "Successful Requests: 0\n",
      "Total Cost (USD): $0.0\n"
     ]
    }
   ],
   "source": [
    "with get_openai_callback() as cb:\n",
    "    embeddings = OpenAIEmbeddings(openai_api_key=OPENAI_API_KEY)\n",
    "    print(cb)"
   ]
  },
  {
   "cell_type": "code",
   "execution_count": 17,
   "metadata": {
    "id": "kb4cc-4yyTRC"
   },
   "outputs": [],
   "source": [
    "# Initialize pinecone\n",
    "\n",
    "pinecone.init(\n",
    "    api_key=PINECONE_API_KEY,\n",
    "    environment=PINECONE_API_ENV\n",
    ")\n",
    "\n",
    "pinecone.create_index('gstdata', dimension=1536, metric=\"cosine\")\n",
    "\n",
    "index_name=\"gstdata\""
   ]
  },
  {
   "cell_type": "code",
   "execution_count": 18,
   "metadata": {
    "id": "_hOSl99ayhrk"
   },
   "outputs": [
    {
     "name": "stdout",
     "output_type": "stream",
     "text": [
      "Tokens Used: 0\n",
      "\tPrompt Tokens: 0\n",
      "\tCompletion Tokens: 0\n",
      "Successful Requests: 0\n",
      "Total Cost (USD): $0.0\n"
     ]
    }
   ],
   "source": [
    "with get_openai_callback() as cb:\n",
    "    vecstore = Pinecone.from_texts([t.page_content for t in texts], embeddings, index_name=index_name)\n",
    "    print(cb)"
   ]
  },
  {
   "cell_type": "code",
   "execution_count": 17,
   "metadata": {
    "id": "bdd4xO6E5Z4R"
   },
   "outputs": [],
   "source": [
    "question = 'What are the main issues with GST?'\n",
    "docs = vecstore.similarity_search(question)"
   ]
  },
  {
   "cell_type": "code",
   "execution_count": 18,
   "metadata": {
    "colab": {
     "base_uri": "https://localhost:8080/"
    },
    "id": "vAaFlVFf5ioZ",
    "outputId": "a57b2939-ea03-42d6-a4ec-0af6764cea6e"
   },
   "outputs": [
    {
     "data": {
      "text/plain": [
       "Document(page_content='The GST Council shall make recommendations to the Union and States on the taxes, cesses and surcharges levied by the Centre, the States and the local bodies which may be subsumed in the GST.\\n\\nQ 4. What principles were adopted for subsuming\\n\\nthe above taxes under GST?\\n\\nAns. The various Central, State and Local levies were examined to identify their possibility of being subsumed under GST. While identifying, the following principles were kept in mind:\\n\\n(i) Taxes or levies to be subsumed should be primarily in the nature of indirect taxes, either on the supply of goods or on the supply of services.\\n\\n(ii) Taxes or levies to be subsumed should be part of the transaction chain which commences with import/ manufacture/ production of goods or provision of services at one end and the consumption of goods and services at the other.\\n\\n(iii) The subsumation should result in free flow of tax credit in intra and inter-State levels. The taxes, levies and fees that are not specifically related to supply of goods & services should not be subsumed under GST.\\n\\n(v) Revenue fairness for both the Union and the States individually would need to be attempted.\\n\\nQ 5. Which are the commodities proposed to be kept\\n\\noutside the purview of GST?\\n\\nAns. Article 366(12A) of the Constitution as amended by 101st Constitutional Amendment Act, 2016 defines the Goods and Services tax (GST) as a tax on supply of goods or services or both, except supply of alcoholic liquor for human consumption. So alcohol for human consumption is kept out of GST by way of definition of GST in constitution. Five petroleum products viz. petroleum crude, motor spirit (petrol), high speed diesel, natural gas and aviation turbine fuel have temporarily been kept out and GST Council shall decide the date from which they shall be included in GST. Furthermore, electricity has been kept out of GST.\\n\\nQ 6. What will be the status in respect of taxation of above commodities after introduction of GST?\\n\\nAns. The existing taxation system (VAT & Central Excise) will continue in respect of the above commodities.\\n\\nQ 7. What will be status of Tobacco and Tobacco\\n\\nproducts under the GST regime?\\n\\nAns. Tobacco and tobacco products would be subject to GST. In addition, the Centre would have the power to levy Central Excise duty on these products.\\n\\nQ 8. What type of GST is proposed to be\\n\\nimplemented?', metadata={})"
      ]
     },
     "execution_count": 18,
     "metadata": {},
     "output_type": "execute_result"
    }
   ],
   "source": [
    "# Here's an example of the first document that was returned\n",
    "docs[1]"
   ]
  },
  {
   "attachments": {},
   "cell_type": "markdown",
   "metadata": {
    "id": "-YaDzepl5IAk"
   },
   "source": [
    "### Query your docs to get an answer back"
   ]
  },
  {
   "cell_type": "code",
   "execution_count": 19,
   "metadata": {
    "id": "GGEtOk1n5Iz2"
   },
   "outputs": [],
   "source": [
    "from langchain.chains import RetrievalQA\n",
    "from langchain.llms import OpenAI\n",
    "from langchain.chains.question_answering import load_qa_chain\n",
    "from langchain.callbacks import get_openai_callback"
   ]
  },
  {
   "cell_type": "code",
   "execution_count": 20,
   "metadata": {
    "id": "mLPCWtW1ywV7"
   },
   "outputs": [],
   "source": [
    "qa = RetrievalQA.from_chain_type(\n",
    "    llm = OpenAI(),\n",
    "    chain_type=\"stuff\",\n",
    "    retriever=vecstore.as_retriever()\n",
    ")"
   ]
  },
  {
   "cell_type": "code",
   "execution_count": 21,
   "metadata": {
    "id": "cygbxocA3HRO"
   },
   "outputs": [],
   "source": [
    "def query(q):\n",
    "    print(\"Question: \", q)\n",
    "    with get_openai_callback() as cb:\n",
    "        resposnse = print(\"Answer: \", qa.run(q))\n",
    "        print(cb)"
   ]
  },
  {
   "cell_type": "code",
   "execution_count": 23,
   "metadata": {
    "colab": {
     "base_uri": "https://localhost:8080/"
    },
    "id": "iul7bQiR3zqd",
    "outputId": "777db407-5510-4918-94e3-819d51f06e2e"
   },
   "outputs": [
    {
     "name": "stdout",
     "output_type": "stream",
     "text": [
      "Question:  What are the main pillars of GST?\n",
      "Answer:   The main pillars of GST are Central GST (CGST), State GST (SGST), Integrated GST (IGST), and Union Territory GST (UTGST). CGST and SGST will be applicable in intra-state transactions, i.e. within the state, while IGST will be applicable in inter-state transactions, i.e. between states. UTGST will be applicable in Union Territories. GST is a destination-based tax, which means that taxes will be collected at the point of consumption, and not the point of origin.\n",
      "Tokens Used: 2150\n",
      "\tPrompt Tokens: 2038\n",
      "\tCompletion Tokens: 112\n",
      "Successful Requests: 1\n",
      "Total Cost (USD): $0.043\n"
     ]
    }
   ],
   "source": [
    "query('What are the main pillars of GST?')"
   ]
  },
  {
   "cell_type": "code",
   "execution_count": null,
   "metadata": {
    "colab": {
     "base_uri": "https://localhost:8080/"
    },
    "id": "CTPY2rqs35vw",
    "outputId": "3ace8b0c-1363-4081-e505-ad834423979c"
   },
   "outputs": [
    {
     "name": "stdout",
     "output_type": "stream",
     "text": [
      "Question:  What are the main issues with GST?\n",
      "Answer:   The main issues with Goods and Services Tax (GST) are related to the complexity of implementation, and the challenges of developing a unified system of taxation across multiple states. In addition, some states have not yet fully adopted the GST system due to political and regional differences.\n"
     ]
    }
   ],
   "source": [
    "query('What are the main issues with GST?')"
   ]
  },
  {
   "cell_type": "code",
   "execution_count": null,
   "metadata": {
    "colab": {
     "base_uri": "https://localhost:8080/"
    },
    "id": "KtNTc11V52Q3",
    "outputId": "dab5ba68-931c-4a04-a48a-314517e60f60"
   },
   "outputs": [
    {
     "name": "stdout",
     "output_type": "stream",
     "text": [
      "Question:  What are the drawbacks of GST?\n",
      "Answer:  \n",
      "\n",
      "The introduction of GST may lead to certain drawbacks, such as: \n",
      "\n",
      "1. Difficulty in filing taxes - GST is a complex tax system, and it can be difficult to understand the rules and regulations. This can lead to confusion and difficulty in filing taxes.\n",
      "\n",
      "2. Increased cost of compliance - GST requires businesses to file multiple returns and submit various forms, which can lead to increased costs in terms of time, money, and manpower.\n",
      "\n",
      "3. Impact on small businesses - Small businesses may find it difficult to comply with the GST requirements due to the lack of resources and expertise.\n",
      "\n",
      "4. Increased costs for consumers - As GST is a consumption-based tax, it may lead to an increase in the cost of goods and services, which can be a burden on consumers.\n"
     ]
    }
   ],
   "source": [
    "query('What are the drawbacks of GST?')"
   ]
  },
  {
   "cell_type": "code",
   "execution_count": null,
   "metadata": {
    "id": "mA-V5oVA6Nvp"
   },
   "outputs": [],
   "source": []
  }
 ],
 "metadata": {
  "colab": {
   "provenance": []
  },
  "kernelspec": {
   "display_name": "llm",
   "language": "python",
   "name": "python3"
  },
  "language_info": {
   "codemirror_mode": {
    "name": "ipython",
    "version": 3
   },
   "file_extension": ".py",
   "mimetype": "text/x-python",
   "name": "python",
   "nbconvert_exporter": "python",
   "pygments_lexer": "ipython3",
   "version": "3.10.11"
  }
 },
 "nbformat": 4,
 "nbformat_minor": 1
}
