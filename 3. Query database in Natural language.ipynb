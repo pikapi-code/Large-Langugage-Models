{
 "cells": [
  {
   "cell_type": "code",
   "execution_count": 1,
   "metadata": {
    "colab": {
     "base_uri": "https://localhost:8080/"
    },
    "id": "THHZ5EEHP8dY",
    "outputId": "5eea4c30-41a8-43d7-a243-46f8a8114880"
   },
   "outputs": [
    {
     "name": "stdout",
     "output_type": "stream",
     "text": [
      "Requirement already satisfied: langchain in h:\\projects\\large langugage models\\llm\\lib\\site-packages (0.0.188)\n",
      "Requirement already satisfied: pymysql in h:\\projects\\large langugage models\\llm\\lib\\site-packages (1.0.3)\n",
      "Requirement already satisfied: openai in h:\\projects\\large langugage models\\llm\\lib\\site-packages (0.27.7)\n",
      "Requirement already satisfied: python-dotenv in h:\\projects\\large langugage models\\llm\\lib\\site-packages (1.0.0)\n",
      "Requirement already satisfied: requests<3,>=2 in h:\\projects\\large langugage models\\llm\\lib\\site-packages (from langchain) (2.31.0)\n",
      "Requirement already satisfied: tenacity<9.0.0,>=8.1.0 in h:\\projects\\large langugage models\\llm\\lib\\site-packages (from langchain) (8.2.2)\n",
      "Requirement already satisfied: pydantic<2,>=1 in h:\\projects\\large langugage models\\llm\\lib\\site-packages (from langchain) (1.10.8)\n",
      "Requirement already satisfied: SQLAlchemy<3,>=1.4 in h:\\projects\\large langugage models\\llm\\lib\\site-packages (from langchain) (2.0.15)\n",
      "Requirement already satisfied: async-timeout<5.0.0,>=4.0.0 in h:\\projects\\large langugage models\\llm\\lib\\site-packages (from langchain) (4.0.2)\n",
      "Requirement already satisfied: numexpr<3.0.0,>=2.8.4 in h:\\projects\\large langugage models\\llm\\lib\\site-packages (from langchain) (2.8.4)\n",
      "Requirement already satisfied: numpy<2,>=1 in h:\\projects\\large langugage models\\llm\\lib\\site-packages (from langchain) (1.23.5)\n",
      "Requirement already satisfied: PyYAML>=5.4.1 in h:\\projects\\large langugage models\\llm\\lib\\site-packages (from langchain) (6.0)\n",
      "Requirement already satisfied: dataclasses-json<0.6.0,>=0.5.7 in h:\\projects\\large langugage models\\llm\\lib\\site-packages (from langchain) (0.5.7)\n",
      "Requirement already satisfied: openapi-schema-pydantic<2.0,>=1.2 in h:\\projects\\large langugage models\\llm\\lib\\site-packages (from langchain) (1.2.4)\n",
      "Requirement already satisfied: aiohttp<4.0.0,>=3.8.3 in h:\\projects\\large langugage models\\llm\\lib\\site-packages (from langchain) (3.8.4)\n",
      "Requirement already satisfied: tqdm in h:\\projects\\large langugage models\\llm\\lib\\site-packages (from openai) (4.65.0)\n",
      "Requirement already satisfied: multidict<7.0,>=4.5 in h:\\projects\\large langugage models\\llm\\lib\\site-packages (from aiohttp<4.0.0,>=3.8.3->langchain) (6.0.4)\n",
      "Requirement already satisfied: charset-normalizer<4.0,>=2.0 in h:\\projects\\large langugage models\\llm\\lib\\site-packages (from aiohttp<4.0.0,>=3.8.3->langchain) (3.1.0)\n",
      "Requirement already satisfied: aiosignal>=1.1.2 in h:\\projects\\large langugage models\\llm\\lib\\site-packages (from aiohttp<4.0.0,>=3.8.3->langchain) (1.3.1)\n",
      "Requirement already satisfied: frozenlist>=1.1.1 in h:\\projects\\large langugage models\\llm\\lib\\site-packages (from aiohttp<4.0.0,>=3.8.3->langchain) (1.3.3)\n",
      "Requirement already satisfied: attrs>=17.3.0 in h:\\projects\\large langugage models\\llm\\lib\\site-packages (from aiohttp<4.0.0,>=3.8.3->langchain) (23.1.0)\n",
      "Requirement already satisfied: yarl<2.0,>=1.0 in h:\\projects\\large langugage models\\llm\\lib\\site-packages (from aiohttp<4.0.0,>=3.8.3->langchain) (1.9.2)\n",
      "Requirement already satisfied: marshmallow-enum<2.0.0,>=1.5.1 in h:\\projects\\large langugage models\\llm\\lib\\site-packages (from dataclasses-json<0.6.0,>=0.5.7->langchain) (1.5.1)\n",
      "Requirement already satisfied: marshmallow<4.0.0,>=3.3.0 in h:\\projects\\large langugage models\\llm\\lib\\site-packages (from dataclasses-json<0.6.0,>=0.5.7->langchain) (3.19.0)\n",
      "Requirement already satisfied: typing-inspect>=0.4.0 in h:\\projects\\large langugage models\\llm\\lib\\site-packages (from dataclasses-json<0.6.0,>=0.5.7->langchain) (0.8.0)\n",
      "Requirement already satisfied: typing-extensions>=4.2.0 in h:\\projects\\large langugage models\\llm\\lib\\site-packages (from pydantic<2,>=1->langchain) (4.5.0)\n",
      "Requirement already satisfied: urllib3<3,>=1.21.1 in h:\\projects\\large langugage models\\llm\\lib\\site-packages (from requests<3,>=2->langchain) (1.26.16)\n",
      "Requirement already satisfied: certifi>=2017.4.17 in h:\\projects\\large langugage models\\llm\\lib\\site-packages (from requests<3,>=2->langchain) (2023.5.7)\n",
      "Requirement already satisfied: idna<4,>=2.5 in h:\\projects\\large langugage models\\llm\\lib\\site-packages (from requests<3,>=2->langchain) (3.4)\n",
      "Requirement already satisfied: greenlet!=0.4.17 in h:\\projects\\large langugage models\\llm\\lib\\site-packages (from SQLAlchemy<3,>=1.4->langchain) (2.0.2)\n",
      "Requirement already satisfied: colorama in h:\\projects\\large langugage models\\llm\\lib\\site-packages (from tqdm->openai) (0.4.6)\n",
      "Requirement already satisfied: packaging>=17.0 in h:\\projects\\large langugage models\\llm\\lib\\site-packages (from marshmallow<4.0.0,>=3.3.0->dataclasses-json<0.6.0,>=0.5.7->langchain) (23.1)\n",
      "Requirement already satisfied: mypy-extensions>=0.3.0 in h:\\projects\\large langugage models\\llm\\lib\\site-packages (from typing-inspect>=0.4.0->dataclasses-json<0.6.0,>=0.5.7->langchain) (1.0.0)\n"
     ]
    },
    {
     "name": "stderr",
     "output_type": "stream",
     "text": [
      "\n",
      "[notice] A new release of pip is available: 23.0.1 -> 23.1.2\n",
      "[notice] To update, run: python.exe -m pip install --upgrade pip\n"
     ]
    }
   ],
   "source": [
    "!pip install langchain pymysql openai python-dotenv"
   ]
  },
  {
   "cell_type": "code",
   "execution_count": 3,
   "metadata": {
    "id": "XpPlTzzmvAMV"
   },
   "outputs": [],
   "source": [
    "from langchain import SQLDatabaseChain\n",
    "from langchain.sql_database import SQLDatabase\n",
    "from langchain.chat_models import ChatOpenAI\n",
    "from urllib.parse import quote\n",
    "from sqlalchemy import create_engine, select, Table, MetaData, Column, String\n",
    "from langchain.chains import SQLDatabaseSequentialChain\n",
    "\n",
    "from dotenv import load_dotenv\n",
    "import os"
   ]
  },
  {
   "cell_type": "code",
   "execution_count": 4,
   "metadata": {
    "id": "Cs6-_SepQDGQ"
   },
   "outputs": [],
   "source": [
    "username = str(os.getenv('username'))\n",
    "passwd = str(os.getenv('passwd'))\n",
    "hostname = str(os.getenv('hostname'))\n",
    "name = str(os.getenv('name'))\n",
    "\n",
    "OPENAI_API_KEY = str(os.getenv('OPENAI_API_KEY'))"
   ]
  },
  {
   "cell_type": "code",
   "execution_count": null,
   "metadata": {
    "id": "v4KQHpyTQFD8"
   },
   "outputs": [],
   "source": [
    "db = SQLDatabase.from_uri(f\"mysql+pymysql://{username}:{passwd}@{hostname}/{name}\")"
   ]
  },
  {
   "cell_type": "code",
   "execution_count": null,
   "metadata": {
    "id": "Q08UtkMxREEI"
   },
   "outputs": [],
   "source": [
    "llm = ChatOpenAI(model_name=\"gpt-3.5-turbo\")"
   ]
  },
  {
   "cell_type": "code",
   "execution_count": null,
   "metadata": {
    "id": "5ydoLOPRR7SW"
   },
   "outputs": [],
   "source": [
    "db_chain = SQLDatabaseChain.from_llm(llm, db, verbose=True, return_intermediate_steps=True)"
   ]
  },
  {
   "cell_type": "code",
   "execution_count": null,
   "metadata": {
    "colab": {
     "base_uri": "https://localhost:8080/"
    },
    "id": "zbMNCW-SQ0_O",
    "outputId": "fd91e6c9-54a0-45fa-de7c-0f9ef3089a1b"
   },
   "outputs": [
    {
     "name": "stdout",
     "output_type": "stream",
     "text": [
      "\n",
      "\n",
      "\u001b[1m> Entering new SQLDatabaseChain chain...\u001b[0m\n",
      "Fetch Customer who have borrowed more than 8000.\n",
      "SQLQuery:\u001b[32;1m\u001b[1;3mSELECT Customers.CustomerID, Customers.FirstName, Customers.LastName\n",
      "FROM Customers\n",
      "INNER JOIN Accounts ON Customers.CustomerID = Accounts.CustomerID\n",
      "INNER JOIN Loans ON Accounts.AccountNumber = Loans.AccountNumber\n",
      "WHERE Loans.LoanAmount > 8000\n",
      "LIMIT 5;\u001b[0m\n",
      "SQLResult: \u001b[33;1m\u001b[1;3m[(1, 'John', 'Doe'), (3, 'David', 'Johnson'), (5, 'Emily', 'Brown')]\u001b[0m\n",
      "Answer:\u001b[32;1m\u001b[1;3mThe customers who have borrowed more than 8000 are John Doe, David Johnson, and Emily Brown.\u001b[0m\n",
      "\u001b[1m> Finished chain.\u001b[0m\n"
     ]
    }
   ],
   "source": [
    "result = db_chain(\"Fetch Customer who have borrowed more than 8000.\")"
   ]
  },
  {
   "cell_type": "code",
   "execution_count": null,
   "metadata": {
    "id": "aUVIILfqFu4K"
   },
   "outputs": [],
   "source": []
  }
 ],
 "metadata": {
  "colab": {
   "provenance": []
  },
  "kernelspec": {
   "display_name": "Python 3 (ipykernel)",
   "language": "python",
   "name": "python3"
  },
  "language_info": {
   "codemirror_mode": {
    "name": "ipython",
    "version": 3
   },
   "file_extension": ".py",
   "mimetype": "text/x-python",
   "name": "python",
   "nbconvert_exporter": "python",
   "pygments_lexer": "ipython3",
   "version": "3.10.11"
  }
 },
 "nbformat": 4,
 "nbformat_minor": 1
}
