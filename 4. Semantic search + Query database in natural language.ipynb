{
 "cells": [
  {
   "cell_type": "code",
   "execution_count": 1,
   "id": "8d73b41e",
   "metadata": {},
   "outputs": [
    {
     "name": "stdout",
     "output_type": "stream",
     "text": [
      "Requirement already satisfied: langchain in h:\\projects\\large langugage models\\llm\\lib\\site-packages (0.0.188)\n",
      "Requirement already satisfied: pymysql in h:\\projects\\large langugage models\\llm\\lib\\site-packages (1.0.3)\n",
      "Requirement already satisfied: openai in h:\\projects\\large langugage models\\llm\\lib\\site-packages (0.27.7)\n",
      "Requirement already satisfied: python-dotenv in h:\\projects\\large langugage models\\llm\\lib\\site-packages (1.0.0)\n",
      "Requirement already satisfied: SQLAlchemy<3,>=1.4 in h:\\projects\\large langugage models\\llm\\lib\\site-packages (from langchain) (2.0.15)\n",
      "Requirement already satisfied: openapi-schema-pydantic<2.0,>=1.2 in h:\\projects\\large langugage models\\llm\\lib\\site-packages (from langchain) (1.2.4)\n",
      "Requirement already satisfied: dataclasses-json<0.6.0,>=0.5.7 in h:\\projects\\large langugage models\\llm\\lib\\site-packages (from langchain) (0.5.7)\n",
      "Requirement already satisfied: aiohttp<4.0.0,>=3.8.3 in h:\\projects\\large langugage models\\llm\\lib\\site-packages (from langchain) (3.8.4)\n",
      "Requirement already satisfied: async-timeout<5.0.0,>=4.0.0 in h:\\projects\\large langugage models\\llm\\lib\\site-packages (from langchain) (4.0.2)\n",
      "Requirement already satisfied: numpy<2,>=1 in h:\\projects\\large langugage models\\llm\\lib\\site-packages (from langchain) (1.23.5)\n",
      "Requirement already satisfied: requests<3,>=2 in h:\\projects\\large langugage models\\llm\\lib\\site-packages (from langchain) (2.31.0)\n",
      "Requirement already satisfied: numexpr<3.0.0,>=2.8.4 in h:\\projects\\large langugage models\\llm\\lib\\site-packages (from langchain) (2.8.4)\n",
      "Requirement already satisfied: PyYAML>=5.4.1 in h:\\projects\\large langugage models\\llm\\lib\\site-packages (from langchain) (6.0)\n",
      "Requirement already satisfied: tenacity<9.0.0,>=8.1.0 in h:\\projects\\large langugage models\\llm\\lib\\site-packages (from langchain) (8.2.2)\n",
      "Requirement already satisfied: pydantic<2,>=1 in h:\\projects\\large langugage models\\llm\\lib\\site-packages (from langchain) (1.10.8)\n",
      "Requirement already satisfied: tqdm in h:\\projects\\large langugage models\\llm\\lib\\site-packages (from openai) (4.65.0)\n",
      "Requirement already satisfied: yarl<2.0,>=1.0 in h:\\projects\\large langugage models\\llm\\lib\\site-packages (from aiohttp<4.0.0,>=3.8.3->langchain) (1.9.2)\n",
      "Requirement already satisfied: multidict<7.0,>=4.5 in h:\\projects\\large langugage models\\llm\\lib\\site-packages (from aiohttp<4.0.0,>=3.8.3->langchain) (6.0.4)\n",
      "Requirement already satisfied: attrs>=17.3.0 in h:\\projects\\large langugage models\\llm\\lib\\site-packages (from aiohttp<4.0.0,>=3.8.3->langchain) (23.1.0)\n",
      "Requirement already satisfied: frozenlist>=1.1.1 in h:\\projects\\large langugage models\\llm\\lib\\site-packages (from aiohttp<4.0.0,>=3.8.3->langchain) (1.3.3)\n",
      "Requirement already satisfied: charset-normalizer<4.0,>=2.0 in h:\\projects\\large langugage models\\llm\\lib\\site-packages (from aiohttp<4.0.0,>=3.8.3->langchain) (3.1.0)\n",
      "Requirement already satisfied: aiosignal>=1.1.2 in h:\\projects\\large langugage models\\llm\\lib\\site-packages (from aiohttp<4.0.0,>=3.8.3->langchain) (1.3.1)\n",
      "Requirement already satisfied: typing-inspect>=0.4.0 in h:\\projects\\large langugage models\\llm\\lib\\site-packages (from dataclasses-json<0.6.0,>=0.5.7->langchain) (0.8.0)\n",
      "Requirement already satisfied: marshmallow<4.0.0,>=3.3.0 in h:\\projects\\large langugage models\\llm\\lib\\site-packages (from dataclasses-json<0.6.0,>=0.5.7->langchain) (3.19.0)\n",
      "Requirement already satisfied: marshmallow-enum<2.0.0,>=1.5.1 in h:\\projects\\large langugage models\\llm\\lib\\site-packages (from dataclasses-json<0.6.0,>=0.5.7->langchain) (1.5.1)\n",
      "Requirement already satisfied: typing-extensions>=4.2.0 in h:\\projects\\large langugage models\\llm\\lib\\site-packages (from pydantic<2,>=1->langchain) (4.5.0)\n",
      "Requirement already satisfied: certifi>=2017.4.17 in h:\\projects\\large langugage models\\llm\\lib\\site-packages (from requests<3,>=2->langchain) (2023.5.7)\n",
      "Requirement already satisfied: idna<4,>=2.5 in h:\\projects\\large langugage models\\llm\\lib\\site-packages (from requests<3,>=2->langchain) (3.4)\n",
      "Requirement already satisfied: urllib3<3,>=1.21.1 in h:\\projects\\large langugage models\\llm\\lib\\site-packages (from requests<3,>=2->langchain) (1.26.16)\n",
      "Requirement already satisfied: greenlet!=0.4.17 in h:\\projects\\large langugage models\\llm\\lib\\site-packages (from SQLAlchemy<3,>=1.4->langchain) (2.0.2)\n",
      "Requirement already satisfied: colorama in h:\\projects\\large langugage models\\llm\\lib\\site-packages (from tqdm->openai) (0.4.6)\n",
      "Requirement already satisfied: packaging>=17.0 in h:\\projects\\large langugage models\\llm\\lib\\site-packages (from marshmallow<4.0.0,>=3.3.0->dataclasses-json<0.6.0,>=0.5.7->langchain) (23.1)\n",
      "Requirement already satisfied: mypy-extensions>=0.3.0 in h:\\projects\\large langugage models\\llm\\lib\\site-packages (from typing-inspect>=0.4.0->dataclasses-json<0.6.0,>=0.5.7->langchain) (1.0.0)\n"
     ]
    },
    {
     "name": "stderr",
     "output_type": "stream",
     "text": [
      "\n",
      "[notice] A new release of pip is available: 23.0.1 -> 23.1.2\n",
      "[notice] To update, run: python.exe -m pip install --upgrade pip\n"
     ]
    }
   ],
   "source": [
    "!pip install langchain pymysql openai python-dotenv"
   ]
  },
  {
   "cell_type": "code",
   "execution_count": 4,
   "id": "9e5e1ac5",
   "metadata": {},
   "outputs": [],
   "source": [
    "from llama_index import (\n",
    "    GPTVectorStoreIndex,\n",
    "    SimpleDirectoryReader,\n",
    "    ServiceContext,\n",
    "    StorageContext,\n",
    "    GPTSQLStructStoreIndex,\n",
    "    SQLDatabase,\n",
    "    WikipediaReader\n",
    ")"
   ]
  },
  {
   "cell_type": "code",
   "execution_count": 2,
   "id": "f19c7458",
   "metadata": {},
   "outputs": [
    {
     "name": "stderr",
     "output_type": "stream",
     "text": [
      "h:\\Projects\\Large Langugage Models\\llm\\lib\\site-packages\\pinecone\\index.py:4: TqdmExperimentalWarning: Using `tqdm.autonotebook.tqdm` in notebook mode. Use `tqdm.tqdm` instead to force console mode (e.g. in jupyter console)\n",
      "  from tqdm.autonotebook import tqdm\n"
     ]
    }
   ],
   "source": [
    "# define pinecone index\n",
    "\n",
    "from dotenv import load_dotenv\n",
    "import pinecone\n",
    "import os\n",
    "\n",
    "username = str(os.getenv('username'))\n",
    "passwd = str(os.getenv('passwd'))\n",
    "hostname = str(os.getenv('hostname'))\n",
    "name = str(os.getenv('name'))\n",
    "\n",
    "OPENAI_API_KEY = str(os.getenv('OPENAI_API_KEY'))\n",
    "PINECONE_API_KEY = str(os.getenv('PINECONE_API_KEY'))\n",
    "PINECONE_API_ENV = str(os.getenv('PINECONE_API_ENV'))\n",
    "\n",
    "pinecone.init(api_key=PINECONE_API_KEY, environment='us-west4-gcp-free')\n",
    "\n",
    "# dimensions are for text-embedding-ada-002\n",
    "#pinecone.create_index(\"quickstart\", dimension=1536, metric=\"euclidean\", pod_type=\"p1\")\n",
    "\n",
    "pinecone_index = pinecone.Index(\"quickstart\")"
   ]
  },
  {
   "cell_type": "code",
   "execution_count": 30,
   "id": "d23373c0",
   "metadata": {},
   "outputs": [
    {
     "name": "stdout",
     "output_type": "stream",
     "text": [
      "INFO:llama_index.token_counter.token_counter:> [build_index_from_nodes] Total LLM token usage: 0 tokens\n",
      "> [build_index_from_nodes] Total LLM token usage: 0 tokens\n",
      "INFO:llama_index.token_counter.token_counter:> [build_index_from_nodes] Total embedding token usage: 0 tokens\n",
      "> [build_index_from_nodes] Total embedding token usage: 0 tokens\n"
     ]
    }
   ],
   "source": [
    "from llama_index.node_parser.simple import SimpleNodeParser\n",
    "from llama_index import Document\n",
    "from llama_index import ServiceContext, LLMPredictor\n",
    "from llama_index.storage import StorageContext\n",
    "from llama_index.vector_stores import PineconeVectorStore\n",
    "from llama_index.langchain_helpers.text_splitter import TokenTextSplitter\n",
    "from langchain.chat_models import ChatOpenAI\n",
    "\n",
    "\n",
    "# define node parser and LLM\n",
    "llm_predictor = LLMPredictor(llm=ChatOpenAI(temperature=0, model_name='gpt-3.5-turbo', streaming=True))\n",
    "service_context = ServiceContext.from_defaults(chunk_size=1024, llm_predictor=llm_predictor)\n",
    "text_splitter = TokenTextSplitter(chunk_size=1024)\n",
    "node_parser = SimpleNodeParser(text_splitter=text_splitter)\n",
    "\n",
    "# define pinecone vector index\n",
    "vector_store = PineconeVectorStore(pinecone_index=pinecone_index, namespace='bankdata')\n",
    "storage_context = StorageContext.from_defaults(vector_store=vector_store)\n",
    "vector_index = GPTVectorStoreIndex([], storage_context=storage_context)"
   ]
  },
  {
   "cell_type": "code",
   "execution_count": 23,
   "id": "ce9c6728",
   "metadata": {},
   "outputs": [],
   "source": [
    "sql_database = SQLDatabase.from_uri(f\"mysql+pymysql://{username}:{passwd}@{hostname}/{name}\")"
   ]
  },
  {
   "cell_type": "code",
   "execution_count": 24,
   "id": "515aecd0",
   "metadata": {},
   "outputs": [
    {
     "name": "stdout",
     "output_type": "stream",
     "text": [
      "INFO:llama_index.token_counter.token_counter:> [build_index_from_nodes] Total LLM token usage: 0 tokens\n",
      "> [build_index_from_nodes] Total LLM token usage: 0 tokens\n",
      "INFO:llama_index.token_counter.token_counter:> [build_index_from_nodes] Total embedding token usage: 0 tokens\n",
      "> [build_index_from_nodes] Total embedding token usage: 0 tokens\n"
     ]
    }
   ],
   "source": [
    "sql_index = GPTSQLStructStoreIndex.from_documents(\n",
    "    [], \n",
    "    sql_database=sql_database\n",
    ")"
   ]
  },
  {
   "cell_type": "code",
   "execution_count": 77,
   "id": "c3007303",
   "metadata": {},
   "outputs": [],
   "source": [
    "bank_doc = [\"\"\"If you are from Los Angeles, then you have to pay 1% additional as interest on loans and credit. \n",
    "This interest is called the richness index. State of california is also called the orange state\"\"\"]"
   ]
  },
  {
   "cell_type": "code",
   "execution_count": 78,
   "id": "c1fba928",
   "metadata": {},
   "outputs": [],
   "source": [
    "documents = [Document(t) for t in bank_doc]"
   ]
  },
  {
   "cell_type": "code",
   "execution_count": 79,
   "id": "f61b640e",
   "metadata": {},
   "outputs": [
    {
     "data": {
      "text/plain": [
       "[Document(text='If you are from Los Angeles, then you have to pay 1% additional as interest on loans and credit. \\nThis interest is called the richness index. State of california is also called the orange state', doc_id='cdef3cc9-3843-44e6-ae92-b5fac2043da9', embedding=None, doc_hash='ae8a0acaa3491a32d69ed449addc16d6763561392a4e69d55dd62c8fc9c12fb6', extra_info=None)]"
      ]
     },
     "execution_count": 79,
     "metadata": {},
     "output_type": "execute_result"
    }
   ],
   "source": [
    "documents"
   ]
  },
  {
   "cell_type": "code",
   "execution_count": 80,
   "id": "57c579ba",
   "metadata": {},
   "outputs": [
    {
     "name": "stdout",
     "output_type": "stream",
     "text": [
      "INFO:llama_index.token_counter.token_counter:> [insert] Total LLM token usage: 0 tokens\n",
      "> [insert] Total LLM token usage: 0 tokens\n",
      "INFO:llama_index.token_counter.token_counter:> [insert] Total embedding token usage: 43 tokens\n",
      "> [insert] Total embedding token usage: 43 tokens\n"
     ]
    }
   ],
   "source": [
    "for doc in documents:\n",
    "    nodes = node_parser.get_nodes_from_documents([doc])\n",
    "    vector_index.insert_nodes(nodes)"
   ]
  },
  {
   "cell_type": "code",
   "execution_count": 81,
   "id": "c8ddd465",
   "metadata": {},
   "outputs": [],
   "source": [
    "from llama_index.query_engine import SQLAutoVectorQueryEngine, RetrieverQueryEngine\n",
    "from llama_index.tools.query_engine import QueryEngineTool\n",
    "from llama_index.indices.vector_store import VectorIndexAutoRetriever"
   ]
  },
  {
   "cell_type": "code",
   "execution_count": 82,
   "id": "27907fb7",
   "metadata": {},
   "outputs": [],
   "source": [
    "sql_query_engine = sql_index.as_query_engine(synthesize_response=True)"
   ]
  },
  {
   "cell_type": "code",
   "execution_count": 83,
   "id": "6f9215a9",
   "metadata": {},
   "outputs": [],
   "source": [
    "from llama_index.vector_stores.types import MetadataInfo, VectorStoreInfo\n",
    "from llama_index.query_engine.retriever_query_engine import RetrieverQueryEngine\n",
    "\n",
    "vector_store_info = VectorStoreInfo(content_info='Rules and information about the bank', metadata_info=[])\n",
    "vector_auto_retriever = VectorIndexAutoRetriever(vector_index, vector_store_info=vector_store_info)\n",
    "retriever_query_engine = RetrieverQueryEngine.from_args(vector_auto_retriever, service_context=service_context)"
   ]
  },
  {
   "cell_type": "code",
   "execution_count": 84,
   "id": "dd5fd438",
   "metadata": {},
   "outputs": [],
   "source": [
    "sql_tool = QueryEngineTool.from_defaults(\n",
    "    query_engine=sql_query_engine,\n",
    "    description=(\n",
    "        'Useful for translating a natural language query into a SQL query over a table containing: '\n",
    "    )\n",
    ")\n",
    "\n",
    "vector_tool = QueryEngineTool.from_defaults(\n",
    "    query_engine=retriever_query_engine,\n",
    "    description=(\n",
    "        'Useful for answering semantic questions about the bank'\n",
    "    )\n",
    ")"
   ]
  },
  {
   "cell_type": "code",
   "execution_count": 85,
   "id": "940801a6",
   "metadata": {},
   "outputs": [],
   "source": [
    "query_engine = SQLAutoVectorQueryEngine(sql_tool, vector_tool, service_context=service_context)"
   ]
  },
  {
   "cell_type": "code",
   "execution_count": 92,
   "id": "1c6ab131",
   "metadata": {},
   "outputs": [
    {
     "name": "stdout",
     "output_type": "stream",
     "text": [
      "\u001b[36;1m\u001b[1;3mQuerying SQL database: Useful for translating a natural language query into a SQL query over a table containing\n",
      "\u001b[0mINFO:llama_index.query_engine.sql_vector_query_engine:> Querying SQL database: Useful for translating a natural language query into a SQL query over a table containing\n",
      "> Querying SQL database: Useful for translating a natural language query into a SQL query over a table containing\n",
      "INFO:llama_index.indices.struct_store.sql_query:> Table desc str: Schema of table Loans:\n",
      "Table 'Loans' has columns: LoanID (INTEGER), AccountNumber (INTEGER), LoanAmount (DECIMAL(10, 2)), InterestRate (DECIMAL(5, 2)), LoanDate (DATE) and foreign keys: ['AccountNumber'] -> Accounts.['AccountNumber'], ['AccountNumber'] -> Accounts.['AccountNumber'].\n",
      "\n",
      "\n",
      "Schema of table Checks:\n",
      "Table 'Checks' has columns: CheckID (INTEGER), AccountNumber (INTEGER), CheckNumber (VARCHAR(20)), Amount (DECIMAL(10, 2)), CheckDate (DATE) and foreign keys: ['AccountNumber'] -> Accounts.['AccountNumber'], ['AccountNumber'] -> Accounts.['AccountNumber'].\n",
      "\n",
      "\n",
      "Schema of table Branches:\n",
      "Table 'Branches' has columns: BranchID (INTEGER), BranchName (VARCHAR(50)), Address (VARCHAR(100)), City (VARCHAR(50)), State (VARCHAR(50)), ZipCode (VARCHAR(10)) and foreign keys: .\n",
      "\n",
      "\n",
      "Schema of table Accounts:\n",
      "Table 'Accounts' has columns: AccountNumber (INTEGER), CustomerID (INTEGER), AccountType (VARCHAR(50)), Balance (DECIMAL(10, 2)) and foreign keys: ['CustomerID'] -> Customers.['CustomerID'], ['CustomerID'] -> Customers.['CustomerID'].\n",
      "\n",
      "\n",
      "Schema of table AccountTypes:\n",
      "Table 'AccountTypes' has columns: AccountTypeID (INTEGER), TypeName (VARCHAR(50)) and foreign keys: .\n",
      "\n",
      "\n",
      "Schema of table BillPay:\n",
      "Table 'BillPay' has columns: PaymentID (INTEGER), AccountNumber (INTEGER), Payee (VARCHAR(100)), Amount (DECIMAL(10, 2)), PaymentDate (DATE) and foreign keys: ['AccountNumber'] -> Accounts.['AccountNumber'], ['AccountNumber'] -> Accounts.['AccountNumber'].\n",
      "\n",
      "\n",
      "Schema of table Transactions:\n",
      "Table 'Transactions' has columns: TransactionID (INTEGER), AccountNumber (INTEGER), TransactionType (VARCHAR(50)), Amount (DECIMAL(10, 2)), TransactionDate (DATETIME) and foreign keys: ['AccountNumber'] -> Accounts.['AccountNumber'], ['AccountNumber'] -> Accounts.['AccountNumber'].\n",
      "\n",
      "\n",
      "Schema of table Customers:\n",
      "Table 'Customers' has columns: CustomerID (INTEGER), FirstName (VARCHAR(50)), LastName (VARCHAR(50)), Email (VARCHAR(100)), Phone (VARCHAR(20)), Address (VARCHAR(100)), City (VARCHAR(50)), State (VARCHAR(50)), ZipCode (VARCHAR(10)) and foreign keys: .\n",
      "\n",
      "\n",
      "Schema of table CreditCards:\n",
      "Table 'CreditCards' has columns: CardID (INTEGER), AccountNumber (INTEGER), CreditLimit (DECIMAL(10, 2)), ExpirationDate (DATE) and foreign keys: ['AccountNumber'] -> Accounts.['AccountNumber'], ['AccountNumber'] -> Accounts.['AccountNumber'].\n",
      "\n",
      "\n",
      "Schema of table Employees:\n",
      "Table 'Employees' has columns: EmployeeID (INTEGER), FirstName (VARCHAR(50)), LastName (VARCHAR(50)), Email (VARCHAR(100)), Phone (VARCHAR(20)), Address (VARCHAR(100)), City (VARCHAR(50)), State (VARCHAR(50)), ZipCode (VARCHAR(10)), BranchID (INTEGER) and foreign keys: ['BranchID'] -> Branches.['BranchID'].\n",
      "\n",
      "> Table desc str: Schema of table Loans:\n",
      "Table 'Loans' has columns: LoanID (INTEGER), AccountNumber (INTEGER), LoanAmount (DECIMAL(10, 2)), InterestRate (DECIMAL(5, 2)), LoanDate (DATE) and foreign keys: ['AccountNumber'] -> Accounts.['AccountNumber'], ['AccountNumber'] -> Accounts.['AccountNumber'].\n",
      "\n",
      "\n",
      "Schema of table Checks:\n",
      "Table 'Checks' has columns: CheckID (INTEGER), AccountNumber (INTEGER), CheckNumber (VARCHAR(20)), Amount (DECIMAL(10, 2)), CheckDate (DATE) and foreign keys: ['AccountNumber'] -> Accounts.['AccountNumber'], ['AccountNumber'] -> Accounts.['AccountNumber'].\n",
      "\n",
      "\n",
      "Schema of table Branches:\n",
      "Table 'Branches' has columns: BranchID (INTEGER), BranchName (VARCHAR(50)), Address (VARCHAR(100)), City (VARCHAR(50)), State (VARCHAR(50)), ZipCode (VARCHAR(10)) and foreign keys: .\n",
      "\n",
      "\n",
      "Schema of table Accounts:\n",
      "Table 'Accounts' has columns: AccountNumber (INTEGER), CustomerID (INTEGER), AccountType (VARCHAR(50)), Balance (DECIMAL(10, 2)) and foreign keys: ['CustomerID'] -> Customers.['CustomerID'], ['CustomerID'] -> Customers.['CustomerID'].\n",
      "\n",
      "\n",
      "Schema of table AccountTypes:\n",
      "Table 'AccountTypes' has columns: AccountTypeID (INTEGER), TypeName (VARCHAR(50)) and foreign keys: .\n",
      "\n",
      "\n",
      "Schema of table BillPay:\n",
      "Table 'BillPay' has columns: PaymentID (INTEGER), AccountNumber (INTEGER), Payee (VARCHAR(100)), Amount (DECIMAL(10, 2)), PaymentDate (DATE) and foreign keys: ['AccountNumber'] -> Accounts.['AccountNumber'], ['AccountNumber'] -> Accounts.['AccountNumber'].\n",
      "\n",
      "\n",
      "Schema of table Transactions:\n",
      "Table 'Transactions' has columns: TransactionID (INTEGER), AccountNumber (INTEGER), TransactionType (VARCHAR(50)), Amount (DECIMAL(10, 2)), TransactionDate (DATETIME) and foreign keys: ['AccountNumber'] -> Accounts.['AccountNumber'], ['AccountNumber'] -> Accounts.['AccountNumber'].\n",
      "\n",
      "\n",
      "Schema of table Customers:\n",
      "Table 'Customers' has columns: CustomerID (INTEGER), FirstName (VARCHAR(50)), LastName (VARCHAR(50)), Email (VARCHAR(100)), Phone (VARCHAR(20)), Address (VARCHAR(100)), City (VARCHAR(50)), State (VARCHAR(50)), ZipCode (VARCHAR(10)) and foreign keys: .\n",
      "\n",
      "\n",
      "Schema of table CreditCards:\n",
      "Table 'CreditCards' has columns: CardID (INTEGER), AccountNumber (INTEGER), CreditLimit (DECIMAL(10, 2)), ExpirationDate (DATE) and foreign keys: ['AccountNumber'] -> Accounts.['AccountNumber'], ['AccountNumber'] -> Accounts.['AccountNumber'].\n",
      "\n",
      "\n",
      "Schema of table Employees:\n",
      "Table 'Employees' has columns: EmployeeID (INTEGER), FirstName (VARCHAR(50)), LastName (VARCHAR(50)), Email (VARCHAR(100)), Phone (VARCHAR(20)), Address (VARCHAR(100)), City (VARCHAR(50)), State (VARCHAR(50)), ZipCode (VARCHAR(10)), BranchID (INTEGER) and foreign keys: ['BranchID'] -> Branches.['BranchID'].\n",
      "\n",
      "INFO:llama_index.token_counter.token_counter:> [query] Total LLM token usage: 1276 tokens\n",
      "> [query] Total LLM token usage: 1276 tokens\n",
      "INFO:llama_index.token_counter.token_counter:> [query] Total embedding token usage: 0 tokens\n",
      "> [query] Total embedding token usage: 0 tokens\n",
      "\u001b[33;1m\u001b[1;3mSQL query: SELECT Customers.FirstName, Customers.LastName, Loans.LoanAmount \n",
      "FROM Customers \n",
      "INNER JOIN Accounts ON Customers.CustomerID = Accounts.CustomerID \n",
      "INNER JOIN Loans ON Accounts.AccountNumber = Loans.AccountNumber;\n",
      "\u001b[0m\u001b[33;1m\u001b[1;3mSQL response: \n",
      "The following customers have taken a loan: John Doe, Jane Smith, David Johnson, Sarah Williams, and Emily Brown. The loan amounts range from $5,000 to $20,000.\n",
      "\u001b[0m\u001b[36;1m\u001b[1;3mTransformed query given SQL response: None\n",
      "\u001b[0mINFO:llama_index.query_engine.sql_vector_query_engine:> Transformed query given SQL response: None\n",
      "> Transformed query given SQL response: None\n"
     ]
    }
   ],
   "source": [
    "response = query_engine.query('Give me all the customers who have taken a loan')"
   ]
  },
  {
   "cell_type": "code",
   "execution_count": null,
   "id": "3bd8858d",
   "metadata": {},
   "outputs": [],
   "source": []
  }
 ],
 "metadata": {
  "kernelspec": {
   "display_name": "llm",
   "language": "python",
   "name": "python3"
  },
  "language_info": {
   "codemirror_mode": {
    "name": "ipython",
    "version": 3
   },
   "file_extension": ".py",
   "mimetype": "text/x-python",
   "name": "python",
   "nbconvert_exporter": "python",
   "pygments_lexer": "ipython3",
   "version": "3.10.11"
  }
 },
 "nbformat": 4,
 "nbformat_minor": 5
}
